{
 "cells": [
  {
   "cell_type": "code",
   "execution_count": 1,
   "id": "cbcea69e",
   "metadata": {},
   "outputs": [],
   "source": [
    "import pandas as pd\n",
    "import os.path as path"
   ]
  },
  {
   "cell_type": "code",
   "execution_count": null,
   "id": "c34e6f3d",
   "metadata": {},
   "outputs": [],
   "source": [
    "# Use in colab\n",
    "from google.colab import drive\n",
    "drive.mount('/content/drive')\n",
    "\n",
    "work_dir = '/content/drive/MyDrive/Msc/Final project/Pancancer survival analysis of cancer hallmark genes'\n",
    "sup_dir = path.join(work_dir, 'suplimental_data')\n",
    "gene_xlsx_file = path.join(sup_dir, '41598_2021_84787_MOESM1_ESM.xlsx')\n",
    "out_file = path.join(work_dir, 'Candidate_genes.txt')"
   ]
  },
  {
   "cell_type": "code",
   "execution_count": 11,
   "id": "6bf9dd2b",
   "metadata": {},
   "outputs": [],
   "source": [
    "# Use on Local PC\n",
    "gene_xlsx_file = '41598_2021_84787_MOESM1_ESM.xlsx'\n",
    "out_file = 'Candidate_genes.txt'"
   ]
  },
  {
   "cell_type": "code",
   "execution_count": 4,
   "id": "cc00058d",
   "metadata": {},
   "outputs": [],
   "source": [
    "df = pd.concat(pd.read_excel(gene_xlsx_file, header=1, usecols='A', sheet_name=None), ignore_index=True)\n",
    "unique_arr = df[\"Gene_name\"].unique()\n",
    "unique_arr.shape"
   ]
  },
  {
   "cell_type": "code",
   "execution_count": 12,
   "id": "ff39cd3c",
   "metadata": {},
   "outputs": [],
   "source": [
    "# Write all genes to text file\n",
    "with open(out_file, 'w') as f:\n",
    "    for item in unique_arr:\n",
    "        f.write(\"%s\\n\" % item)"
   ]
  }
 ],
 "metadata": {
  "kernelspec": {
   "display_name": "Python 3 (ipykernel)",
   "language": "python",
   "name": "python3"
  },
  "language_info": {
   "codemirror_mode": {
    "name": "ipython",
    "version": 3
   },
   "file_extension": ".py",
   "mimetype": "text/x-python",
   "name": "python",
   "nbconvert_exporter": "python",
   "pygments_lexer": "ipython3",
   "version": "3.9.7"
  }
 },
 "nbformat": 4,
 "nbformat_minor": 5
}
