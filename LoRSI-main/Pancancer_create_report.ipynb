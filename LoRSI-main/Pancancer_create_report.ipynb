{
 "cells": [
  {
   "cell_type": "code",
   "execution_count": 1,
   "id": "489844a0",
   "metadata": {},
   "outputs": [
    {
     "name": "stderr",
     "output_type": "stream",
     "text": [
      "calc Breast: 100%|██████████████████████████| 644/644 [2:16:43<00:00, 12.74s/it]\n",
      "calc Bladder: 100%|███████████████████████████| 645/645 [32:13<00:00,  3.00s/it]\n",
      "calc Thyroid gland: 100%|█████████████████████| 635/635 [22:02<00:00,  2.08s/it]\n",
      "calc Brain: 100%|███████████████████████████| 643/643 [2:28:10<00:00, 13.83s/it]\n",
      "calc Cervix uteri: 100%|██████████████████████| 647/647 [19:30<00:00,  1.81s/it]\n",
      "calc Pancreas: 100%|██████████████████████████| 649/649 [13:56<00:00,  1.29s/it]\n",
      "calc Skin: 100%|██████████████████████████████| 636/636 [48:19<00:00,  4.56s/it]\n",
      "calc Colon: 100%|██████████████████████████| 644/644 [14:14:42<00:00, 79.63s/it]\n",
      "calc Ovary: 100%|█████████████████████████████| 648/648 [21:37<00:00,  2.00s/it]\n",
      "calc Liver and intrahepatic bile ducts: 100%|█| 636/636 [1:00:01<00:00,  5.66s/i\n",
      "calc Prostate gland: 100%|████████████████████| 642/642 [21:13<00:00,  1.98s/it]\n",
      "calc Stomach: 100%|███████████████████████████| 650/650 [18:11<00:00,  1.68s/it]\n"
     ]
    }
   ],
   "source": [
    "import Pancancer_report_producer\n",
    "import os\n",
    "import Consts\n",
    "import pandas as pd\n",
    "import matplotlib.pyplot as plt\n",
    "import numpy as np\n",
    "import seaborn as sns\n",
    "\n",
    "# Make the notebook automatically reload external python modules\n",
    "%load_ext autoreload\n",
    "%autoreload\n",
    "\n",
    "cancer_list = ['Breast','Bladder','Thyroid gland','Brain','Cervix uteri','Pancreas','Skin',\n",
    "               'Colon','Ovary','Liver and intrahepatic bile ducts','Prostate gland','Stomach']\n",
    "report_name = 'lorsi_report.csv'\n",
    "for cancer in cancer_list:\n",
    "    Pancancer_report_producer.create_report(cancer,report_name,alpha=0.01,delta=0.05,\n",
    "                                            save_to_csv=True,user_root=None)"
   ]
  },
  {
   "cell_type": "code",
   "execution_count": null,
   "id": "ccba62dd",
   "metadata": {},
   "outputs": [],
   "source": []
  }
 ],
 "metadata": {
  "kernelspec": {
   "display_name": "Python 3 (ipykernel)",
   "language": "python",
   "name": "python3"
  },
  "language_info": {
   "codemirror_mode": {
    "name": "ipython",
    "version": 3
   },
   "file_extension": ".py",
   "mimetype": "text/x-python",
   "name": "python",
   "nbconvert_exporter": "python",
   "pygments_lexer": "ipython3",
   "version": "3.8.8"
  }
 },
 "nbformat": 4,
 "nbformat_minor": 5
}
