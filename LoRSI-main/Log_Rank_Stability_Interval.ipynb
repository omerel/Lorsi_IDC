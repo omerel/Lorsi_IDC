{
 "cells": [
  {
   "cell_type": "code",
   "execution_count": 1,
   "metadata": {},
   "outputs": [],
   "source": [
    "from lorsi import LoRSI\n",
    "import time\n",
    "import numpy as np\n",
    "import matplotlib.pyplot as plt\n",
    "%matplotlib inline\n",
    "import warnings\n",
    "warnings.filterwarnings(\"ignore\")\n",
    "# Make the notebook automatically reload external python modules\n",
    "%load_ext autoreload\n",
    "%autoreload 2"
   ]
  },
  {
   "cell_type": "code",
   "execution_count": 2,
   "metadata": {},
   "outputs": [],
   "source": [
    "# path to data in csv format\n",
    "DATA_PATH = 'example_data.csv'"
   ]
  },
  {
   "cell_type": "code",
   "execution_count": 3,
   "metadata": {},
   "outputs": [],
   "source": [
    "# relevant columns name\n",
    "event_col = 'event'\n",
    "time_col = 'time'\n",
    "group_col = 'group'"
   ]
  },
  {
   "cell_type": "code",
   "execution_count": 14,
   "metadata": {},
   "outputs": [
    {
     "name": "stdout",
     "output_type": "stream",
     "text": [
      "[2760 2130 1740 3090 2790 3330 2550 2670 2520 2400 2640 2880 2340  780\n",
      "  450 2160 2670 2340  570 1920 2130 2250 2850 1110  510 1050 3930 3570\n",
      " 2730 1200 3600 2370 3660 3570 1980 3450 1920 3540 2790 3180 3420 3660\n",
      " 3450 4230  240 4440 4770  900 5970 2700 5700 3660 4560  510  690 4530\n",
      " 4800 4290 4380 3900 4170  450 6030 4740 3480   30  510 5100 6150  480\n",
      " 4800 2100  900 5730 7200 2790 5670 5760 2940 6090 5400 1350 3900  210\n",
      " 4020 3090  750 3030 3840 3960  660 4500 1350 4650  180 2310 2460 3990\n",
      " 1230 1110 3990  540 3510 2160 4230  240 1800 2280 1830 4290 1950  360\n",
      " 2340  420 1380  300  960]\n"
     ]
    },
    {
     "data": {
      "image/png": "[encoded data removed]",
      "text/plain": [
       "<Figure size 432x288 with 1 Axes>"
      ]
     },
     "metadata": {
      "needs_background": "light"
     },
     "output_type": "display_data"
    }
   ],
   "source": [
    "lorsi = LoRSI(DATA_PATH, event_col, time_col, group_col)\n",
    "lorsi.plot_original_KM()"
   ]
  },
  {
   "cell_type": "code",
   "execution_count": 7,
   "metadata": {},
   "outputs": [],
   "source": [
    "lorsi.update_data_filter('B')\n",
    "number_of_changes = 1 # alpha = number_of_changes / n\n",
    "method = 'efficient' # efficient or BF"
   ]
  },
  {
   "cell_type": "code",
   "execution_count": 6,
   "metadata": {},
   "outputs": [
    {
     "name": "stdout",
     "output_type": "stream",
     "text": [
      "ORIGINAL p-values: 0.028497932392004353\n",
      "MIN p-value      : 0.01763410373674596\n",
      "MAX p-value      : 0.04544359569559592\n",
      "Running time (seconds): 0.14294075965881348\n",
      "Running time (seconds): 0.14322710037231445\n"
     ]
    }
   ],
   "source": [
    "start = time.time()\n",
    "_ = lorsi.calc_interval(number_of_changes, delta=0, delta_model='RIGHT', method=method, parallel=False)\n",
    "print('Running time (seconds):', time.time() - start)"
   ]
  },
  {
   "cell_type": "code",
   "execution_count": 8,
   "metadata": {},
   "outputs": [
    {
     "name": "stdout",
     "output_type": "stream",
     "text": [
      "ORIGINAL p-values: 0.028497932392004353\n",
      "MIN p-value      : 0.01281900211688041\n",
      "MAX p-value      : 0.058299010174055824\n",
      "Running time (seconds): 0.14285898208618164\n",
      "Running time (seconds): 0.14315009117126465\n"
     ]
    }
   ],
   "source": [
    "start = time.time()\n",
    "_ = lorsi.calc_interval(number_of_changes, delta=0, delta_model='RIGHT', method=method, parallel=False)\n",
    "print('Running time (seconds):', time.time() - start)"
   ]
  }
 ],
 "metadata": {
  "kernelspec": {
   "display_name": "Python 3",
   "language": "python",
   "name": "python3"
  },
  "language_info": {
   "codemirror_mode": {
    "name": "ipython",
    "version": 3
   },
   "file_extension": ".py",
   "mimetype": "text/x-python",
   "name": "python",
   "nbconvert_exporter": "python",
   "pygments_lexer": "ipython3",
   "version": "3.8.8"
  }
 },
 "nbformat": 4,
 "nbformat_minor": 4
}
