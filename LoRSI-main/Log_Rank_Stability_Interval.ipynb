{
 "cells": [
  {
   "cell_type": "code",
   "execution_count": 14,
   "metadata": {},
   "outputs": [
    {
     "name": "stdout",
     "output_type": "stream",
     "text": [
      "The autoreload extension is already loaded. To reload it, use:\n",
      "  %reload_ext autoreload\n"
     ]
    }
   ],
   "source": [
    "from lorsi import LoRSI\n",
    "import time\n",
    "import numpy as np\n",
    "import matplotlib.pyplot as plt\n",
    "%matplotlib inline\n",
    "import warnings\n",
    "warnings.filterwarnings(\"ignore\")\n",
    "# Make the notebook automatically reload external python modules\n",
    "%load_ext autoreload\n",
    "%autoreload 2"
   ]
  },
  {
   "cell_type": "code",
   "execution_count": 15,
   "metadata": {},
   "outputs": [],
   "source": [
    "# path to data in csv format\n",
    "DATA_PATH = 'example_data.csv'"
   ]
  },
  {
   "cell_type": "code",
   "execution_count": 16,
   "metadata": {},
   "outputs": [],
   "source": [
    "# relevant columns name\n",
    "event_col = 'event'\n",
    "time_col = 'time'\n",
    "group_col = 'group'"
   ]
  },
  {
   "cell_type": "code",
   "execution_count": null,
   "metadata": {},
   "outputs": [],
   "source": []
  },
  {
   "cell_type": "markdown",
   "metadata": {},
   "source": [
    "## New implementations in Lorsi class: "
   ]
  },
  {
   "cell_type": "code",
   "execution_count": null,
   "metadata": {},
   "outputs": [],
   "source": [
    "# returns the group with better survival rate\n",
    "better_group = self._calculate_better_survival_group(default_group_final_survival_score,other_group_final_survival_score,to_print=False)\n",
    "\n",
    "# plot_original_KM returns the p value and better survival group. also calculate and update the better survival group\n",
    "p_value,better_survival_group = lorsi.plot_original_KM()\n",
    "\n",
    "# plot_KM_with_chosen_indexes adds on KM plot selected indexes  from greedy and efficient methods\n",
    "plot_KM_with_chosen_indexes(self,chosen_indexes)\n",
    "\n",
    "# _get_max_pvalue_griddy returns p value max calculated by greedy method and the chosen indexes\n",
    "_get_max_pvalue_griddy(self, number_of_changes, num_of_ommits)\n",
    "\n",
    "# _get_min_pvalue_griddy returns p value min calculated by greedy method\n",
    "_get_min_pvalue_griddy(self, number_of_changes, num_of_ommits)\n",
    "\n",
    "# _get_max_pvalue_efficient returns p value max calculated by efficient method and the chosen indexes\n",
    "_get_max_pvalue_efficient(self, number_of_changes, num_of_ommits)\n",
    "\n",
    "# added greedy method to _calc_interval function\n",
    "_calc_interval(self, number_of_changes, min_pvalue_ommits, max_pvalue_ommits, method, parallel)\n",
    "\n",
    "# plot_original_KM and adds the chosen indexes of greedy and efficient methods to comparison\n",
    "plot_KM_with_chosen_indexes(self,chosen_indexes)"
   ]
  },
  {
   "cell_type": "markdown",
   "metadata": {},
   "source": [
    "Lorsi.plot_original_KM()\n",
    "calculate automaticly better survival group and returns p_value and the better survival group"
   ]
  },
  {
   "cell_type": "code",
   "execution_count": 44,
   "metadata": {},
   "outputs": [
    {
     "data": {
      "image/png": "[encoded data removed]",
      "text/plain": [
       "<Figure size 1080x720 with 1 Axes>"
      ]
     },
     "metadata": {
      "needs_background": "light"
     },
     "output_type": "display_data"
    },
    {
     "name": "stdout",
     "output_type": "stream",
     "text": [
      "P_value: 0.0285,\n",
      "Better_survival_group: A\n"
     ]
    }
   ],
   "source": [
    "lorsi = LoRSI(DATA_PATH, event_col, time_col, group_col)\n",
    "p_value,better_survival_group = lorsi.plot_original_KM()\n",
    "print(f'P_value: {round(p_value,4)},\\nBetter_survival_group: {better_survival_group}')"
   ]
  },
  {
   "cell_type": "code",
   "execution_count": 18,
   "metadata": {},
   "outputs": [],
   "source": [
    "# lorsi.update_data_filter('A')\n",
    "number_of_changes = 1 # alpha = number_of_changes / n\n",
    "method = 'efficient' # efficient or BF"
   ]
  },
  {
   "cell_type": "code",
   "execution_count": null,
   "metadata": {},
   "outputs": [],
   "source": [
    "plot_KM_with_chosen_indexes(self,chosen_indexes)"
   ]
  },
  {
   "cell_type": "code",
   "execution_count": 33,
   "metadata": {},
   "outputs": [
    {
     "name": "stdout",
     "output_type": "stream",
     "text": [
      "ORIGINAL p-values: 0.028497932392004353\n",
      "MIN p-value      : 0.01763410373674596\n",
      "MAX p-value      : (0.04544359569559592, [183])\n",
      "Running time (seconds): 0.12445592880249023\n"
     ]
    }
   ],
   "source": [
    "_=lorsi.calc_interval(number_of_changes, delta=0, delta_model='RIGHT', method=method, parallel=False)"
   ]
  },
  {
   "cell_type": "code",
   "execution_count": null,
   "metadata": {},
   "outputs": [],
   "source": []
  },
  {
   "cell_type": "code",
   "execution_count": null,
   "metadata": {},
   "outputs": [],
   "source": []
  },
  {
   "cell_type": "code",
   "execution_count": null,
   "metadata": {},
   "outputs": [],
   "source": []
  }
 ],
 "metadata": {
  "kernelspec": {
   "display_name": "Python 3 (ipykernel)",
   "language": "python",
   "name": "python3"
  },
  "language_info": {
   "codemirror_mode": {
    "name": "ipython",
    "version": 3
   },
   "file_extension": ".py",
   "mimetype": "text/x-python",
   "name": "python",
   "nbconvert_exporter": "python",
   "pygments_lexer": "ipython3",
   "version": "3.8.8"
  }
 },
 "nbformat": 4,
 "nbformat_minor": 4
}
