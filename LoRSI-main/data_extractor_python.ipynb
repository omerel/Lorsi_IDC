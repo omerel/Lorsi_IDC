{
 "cells": [
  {
   "cell_type": "code",
   "execution_count": null,
   "id": "f20d57b4",
   "metadata": {},
   "outputs": [],
   "source": [
    "# https://www.youtube.com/watch?v=eHuQlIDRXxs\n",
    "# https://automeris.io/WebPlotDigitizer"
   ]
  },
  {
   "cell_type": "code",
   "execution_count": 113,
   "id": "094a48ee",
   "metadata": {},
   "outputs": [
    {
     "name": "stdout",
     "output_type": "stream",
     "text": [
      "The autoreload extension is already loaded. To reload it, use:\n",
      "  %reload_ext autoreload\n"
     ]
    }
   ],
   "source": [
    "import pandas as pd\n",
    "import numpy as np\n",
    "from lorsi import LoRSI\n",
    "import time\n",
    "import matplotlib.pyplot as plt\n",
    "%matplotlib inline\n",
    "import warnings\n",
    "warnings.filterwarnings(\"ignore\")\n",
    "# Make the notebook automatically reload external python modules\n",
    "%load_ext autoreload\n",
    "%autoreload 2"
   ]
  },
  {
   "cell_type": "code",
   "execution_count": 52,
   "id": "7bce441c",
   "metadata": {},
   "outputs": [],
   "source": [
    "df_1 = pd.read_csv('g1.csv')\n",
    "df_1 = df_1.drop(labels=\"Unnamed: 0\",axis=1)"
   ]
  },
  {
   "cell_type": "code",
   "execution_count": 53,
   "id": "f9597b25",
   "metadata": {},
   "outputs": [],
   "source": [
    "df_2 = pd.read_csv('g2.csv')\n",
    "df_2 = df_2.drop(labels=\"Unnamed: 0\",axis=1)"
   ]
  },
  {
   "cell_type": "code",
   "execution_count": 114,
   "id": "8ce92f70",
   "metadata": {},
   "outputs": [],
   "source": [
    "df = df_1.append(df_2)\n",
    "df.to_csv(\"NEJMoa1610057.csv\")\n",
    "DATA_PATH = 'NEJMoa1610057.csv'#example_data.csv'"
   ]
  },
  {
   "cell_type": "code",
   "execution_count": 115,
   "id": "db867722",
   "metadata": {},
   "outputs": [],
   "source": [
    "# relevant columns name\n",
    "time_col = 'time'\n",
    "event_col = 'event'\n",
    "group_col = 'group'"
   ]
  },
  {
   "cell_type": "code",
   "execution_count": 116,
   "id": "fba88b4c",
   "metadata": {},
   "outputs": [
    {
     "data": {
      "image/png": "[encoded data removed]",
      "text/plain": [
       "<Figure size 432x288 with 1 Axes>"
      ]
     },
     "metadata": {
      "needs_background": "light"
     },
     "output_type": "display_data"
    }
   ],
   "source": [
    "lorsi = LoRSI(DATA_PATH, event_col, time_col, group_col)\n",
    "lorsi.plot_original_KM()"
   ]
  },
  {
   "cell_type": "code",
   "execution_count": 119,
   "id": "dabf4ed9",
   "metadata": {},
   "outputs": [],
   "source": [
    "lorsi.update_data_filter(1)\n",
    "number_of_changes = 0 # alpha = number_of_changes / n\n",
    "method = 'efficient' # efficient or BF"
   ]
  },
  {
   "cell_type": "code",
   "execution_count": 120,
   "id": "8d310a76",
   "metadata": {},
   "outputs": [
    {
     "name": "stdout",
     "output_type": "stream",
     "text": [
      "ORIGINAL p-values: 0.04798420626820684\n",
      "MIN p-value      : 0.04798420626820684\n",
      "MAX p-value      : 0.04798420626820684\n",
      "Running time (seconds): 0.07562685012817383\n",
      "Running time (seconds): 0.07604575157165527\n"
     ]
    }
   ],
   "source": [
    "start = time.time()\n",
    "_ = lorsi.calc_interval(number_of_changes, delta=0, delta_model='LEFT', method=method, parallel=False)\n",
    "print('Running time (seconds):', time.time() - start)"
   ]
  }
 ],
 "metadata": {
  "kernelspec": {
   "display_name": "Python 3",
   "language": "python",
   "name": "python3"
  },
  "language_info": {
   "codemirror_mode": {
    "name": "ipython",
    "version": 3
   },
   "file_extension": ".py",
   "mimetype": "text/x-python",
   "name": "python",
   "nbconvert_exporter": "python",
   "pygments_lexer": "ipython3",
   "version": "3.8.8"
  }
 },
 "nbformat": 4,
 "nbformat_minor": 5
}
